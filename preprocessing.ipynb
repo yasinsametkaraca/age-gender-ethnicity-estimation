{
 "cells": [
  {
   "metadata": {
    "ExecuteTime": {
     "end_time": "2024-06-09T13:12:17.916015Z",
     "start_time": "2024-06-09T13:12:17.913417Z"
    }
   },
   "cell_type": "code",
   "source": [
    "import numpy as np # linear algebra\n",
    "import pandas as pd # data processing, CSV file I/O (e.g. pd.read_csv)\n",
    "import os\n",
    "import glob\n",
    "import pandas as pd\n",
    "import matplotlib.pyplot as plt\n",
    "import seaborn as sns\n",
    "from sklearn.utils import shuffle"
   ],
   "id": "2137b91c857c99e9",
   "outputs": [],
   "execution_count": 53
  },
  {
   "metadata": {
    "ExecuteTime": {
     "end_time": "2024-06-09T13:12:20.787657Z",
     "start_time": "2024-06-09T13:12:19.617151Z"
    }
   },
   "cell_type": "code",
   "source": [
    "df = pd.read_csv(\"dataset.csv\")\n",
    "df.drop(columns= ['img_name'], axis=1, inplace= True)\n",
    "df.head()"
   ],
   "id": "b1b80adea621b6a0",
   "outputs": [
    {
     "data": {
      "text/plain": [
       "   age  ethnicity  gender                                             pixels\n",
       "0    1          2       0  129 128 128 126 127 130 133 135 139 142 145 14...\n",
       "1    1          2       0  164 74 111 168 169 171 175 182 184 188 193 199...\n",
       "2    1          2       0  67 70 71 70 69 67 70 79 90 103 116 132 145 155...\n",
       "3    1          2       0  193 197 198 200 199 200 202 203 204 205 208 21...\n",
       "4    1          2       0  202 205 209 210 209 209 210 211 212 214 218 21..."
      ],
      "text/html": [
       "<div>\n",
       "<style scoped>\n",
       "    .dataframe tbody tr th:only-of-type {\n",
       "        vertical-align: middle;\n",
       "    }\n",
       "\n",
       "    .dataframe tbody tr th {\n",
       "        vertical-align: top;\n",
       "    }\n",
       "\n",
       "    .dataframe thead th {\n",
       "        text-align: right;\n",
       "    }\n",
       "</style>\n",
       "<table border=\"1\" class=\"dataframe\">\n",
       "  <thead>\n",
       "    <tr style=\"text-align: right;\">\n",
       "      <th></th>\n",
       "      <th>age</th>\n",
       "      <th>ethnicity</th>\n",
       "      <th>gender</th>\n",
       "      <th>pixels</th>\n",
       "    </tr>\n",
       "  </thead>\n",
       "  <tbody>\n",
       "    <tr>\n",
       "      <th>0</th>\n",
       "      <td>1</td>\n",
       "      <td>2</td>\n",
       "      <td>0</td>\n",
       "      <td>129 128 128 126 127 130 133 135 139 142 145 14...</td>\n",
       "    </tr>\n",
       "    <tr>\n",
       "      <th>1</th>\n",
       "      <td>1</td>\n",
       "      <td>2</td>\n",
       "      <td>0</td>\n",
       "      <td>164 74 111 168 169 171 175 182 184 188 193 199...</td>\n",
       "    </tr>\n",
       "    <tr>\n",
       "      <th>2</th>\n",
       "      <td>1</td>\n",
       "      <td>2</td>\n",
       "      <td>0</td>\n",
       "      <td>67 70 71 70 69 67 70 79 90 103 116 132 145 155...</td>\n",
       "    </tr>\n",
       "    <tr>\n",
       "      <th>3</th>\n",
       "      <td>1</td>\n",
       "      <td>2</td>\n",
       "      <td>0</td>\n",
       "      <td>193 197 198 200 199 200 202 203 204 205 208 21...</td>\n",
       "    </tr>\n",
       "    <tr>\n",
       "      <th>4</th>\n",
       "      <td>1</td>\n",
       "      <td>2</td>\n",
       "      <td>0</td>\n",
       "      <td>202 205 209 210 209 209 210 211 212 214 218 21...</td>\n",
       "    </tr>\n",
       "  </tbody>\n",
       "</table>\n",
       "</div>"
      ]
     },
     "execution_count": 54,
     "metadata": {},
     "output_type": "execute_result"
    }
   ],
   "execution_count": 54
  },
  {
   "metadata": {},
   "cell_type": "markdown",
   "source": [
    "Data cleaning and rearranging\n",
    "\n",
    "Bu işlem, veri kümesindeki etnik gruplar arasındaki dengesizliği gidermek için yapılır. Örnekleme işlemi sayesinde, her etnik gruptan eşit sayıda örnek alınarak daha dengeli bir veri kümesi oluşturulur. Bu da, makine öğrenimi modellerinin eğitilmesi sırasında sınıf dengesizliğinden kaynaklanan yanlılıkları azaltır."
   ],
   "id": "ad9e706164ecfbf8"
  },
  {
   "metadata": {
    "ExecuteTime": {
     "end_time": "2024-06-09T10:42:58.608161Z",
     "start_time": "2024-06-09T10:42:58.520873Z"
    }
   },
   "cell_type": "code",
   "source": "sns.barplot(y=list(df['ethnicity'].value_counts().values),x= list(df['ethnicity'].value_counts().index))",
   "id": "68f0feef23acf799",
   "outputs": [
    {
     "data": {
      "text/plain": [
       "<Axes: >"
      ]
     },
     "execution_count": 45,
     "metadata": {},
     "output_type": "execute_result"
    },
    {
     "data": {
      "text/plain": [
       "<Figure size 640x480 with 1 Axes>"
      ],
      "image/png": "[encoded data removed]"
     },
     "metadata": {},
     "output_type": "display_data"
    }
   ],
   "execution_count": 45
  },
  {
   "metadata": {
    "ExecuteTime": {
     "end_time": "2024-06-09T10:42:58.612480Z",
     "start_time": "2024-06-09T10:42:58.608161Z"
    }
   },
   "cell_type": "code",
   "source": "df.shape",
   "id": "2e15311ffc709b83",
   "outputs": [
    {
     "data": {
      "text/plain": [
       "(23705, 4)"
      ]
     },
     "execution_count": 46,
     "metadata": {},
     "output_type": "execute_result"
    }
   ],
   "execution_count": 46
  },
  {
   "metadata": {
    "ExecuteTime": {
     "end_time": "2024-06-09T10:42:58.699905Z",
     "start_time": "2024-06-09T10:42:58.613485Z"
    }
   },
   "cell_type": "code",
   "source": [
    "# Find the average of all ethnicity counts\n",
    "m = df.groupby('ethnicity').count().mean().values[0]\n",
    "print(\"Mean of all ethnicity counts: \" + str(m))\n",
    "\n",
    "ethnicity = list(df.ethnicity.unique())\n",
    "\n",
    "oversampled = pd.DataFrame()\n",
    "for n in ethnicity:\n",
    "    l = len(df[df.ethnicity == n])\n",
    "    print('Before sampling: ' + str(l))\n",
    "    \n",
    "    if l >= m:\n",
    "        dft = df[df.ethnicity == n].sample(int(m))\n",
    "        oversampled = pd.concat([oversampled, dft])\n",
    "    else:\n",
    "        frac = int(m / l)\n",
    "        dft = pd.DataFrame()\n",
    "        for i in range(frac + 1):\n",
    "            dft = pd.concat([dft, df[df.ethnicity == n]])\n",
    "            \n",
    "        dft = dft[dft.ethnicity == n].sample(int(m))\n",
    "        oversampled = pd.concat([oversampled, dft])\n",
    "\n",
    "oversampled = oversampled.sample(frac=1).reset_index(drop=True)\n",
    "\n",
    "sns.barplot(y=list(oversampled['ethnicity'].value_counts().values), x=list(oversampled['ethnicity'].value_counts().index))\n",
    "plt.show()"
   ],
   "id": "e0db65293f763a30",
   "outputs": [
    {
     "name": "stdout",
     "output_type": "stream",
     "text": [
      "Mean of all ethnicity counts: 4741.0\n",
      "Before sampling: 3434\n",
      "Before sampling: 3975\n",
      "Before sampling: 1692\n",
      "Before sampling: 10078\n",
      "Before sampling: 4526\n"
     ]
    },
    {
     "data": {
      "text/plain": [
       "<Figure size 640x480 with 1 Axes>"
      ],
      "image/png": "[encoded data removed]"
     },
     "metadata": {},
     "output_type": "display_data"
    }
   ],
   "execution_count": 47
  },
  {
   "metadata": {
    "ExecuteTime": {
     "end_time": "2024-06-09T10:43:44.662428Z",
     "start_time": "2024-06-09T10:43:44.655717Z"
    }
   },
   "cell_type": "code",
   "source": "oversampled",
   "id": "e44b16b3ba095205",
   "outputs": [
    {
     "data": {
      "text/plain": [
       "       age  ethnicity  gender  \\\n",
       "0       42          3       0   \n",
       "1       37          3       0   \n",
       "2       52          0       0   \n",
       "3       10          4       0   \n",
       "4       26          2       0   \n",
       "...    ...        ...     ...   \n",
       "23700   33          1       1   \n",
       "23701   60          3       0   \n",
       "23702   37          2       0   \n",
       "23703   59          0       0   \n",
       "23704   20          0       1   \n",
       "\n",
       "                                                  pixels  \n",
       "0      57 35 31 34 44 74 104 128 137 150 155 160 164 ...  \n",
       "1      15 15 15 15 17 18 19 19 20 20 19 18 20 23 22 1...  \n",
       "2      47 64 80 96 111 106 101 98 99 99 95 95 97 99 1...  \n",
       "3      197 197 115 45 37 41 54 99 160 166 176 179 182...  \n",
       "4      202 139 60 48 27 4 18 94 183 203 207 209 210 2...  \n",
       "...                                                  ...  \n",
       "23700  71 71 72 72 72 72 71 71 71 71 71 70 68 67 66 6...  \n",
       "23701  43 43 42 42 73 112 137 130 136 140 135 141 147...  \n",
       "23702  45 47 36 52 54 44 41 35 36 39 72 74 89 118 130...  \n",
       "23703  109 109 106 102 99 96 98 107 114 121 128 133 1...  \n",
       "23704  15 9 4 1 5 11 19 38 69 83 99 127 135 142 149 1...  \n",
       "\n",
       "[23705 rows x 4 columns]"
      ],
      "text/html": [
       "<div>\n",
       "<style scoped>\n",
       "    .dataframe tbody tr th:only-of-type {\n",
       "        vertical-align: middle;\n",
       "    }\n",
       "\n",
       "    .dataframe tbody tr th {\n",
       "        vertical-align: top;\n",
       "    }\n",
       "\n",
       "    .dataframe thead th {\n",
       "        text-align: right;\n",
       "    }\n",
       "</style>\n",
       "<table border=\"1\" class=\"dataframe\">\n",
       "  <thead>\n",
       "    <tr style=\"text-align: right;\">\n",
       "      <th></th>\n",
       "      <th>age</th>\n",
       "      <th>ethnicity</th>\n",
       "      <th>gender</th>\n",
       "      <th>pixels</th>\n",
       "    </tr>\n",
       "  </thead>\n",
       "  <tbody>\n",
       "    <tr>\n",
       "      <th>0</th>\n",
       "      <td>42</td>\n",
       "      <td>3</td>\n",
       "      <td>0</td>\n",
       "      <td>57 35 31 34 44 74 104 128 137 150 155 160 164 ...</td>\n",
       "    </tr>\n",
       "    <tr>\n",
       "      <th>1</th>\n",
       "      <td>37</td>\n",
       "      <td>3</td>\n",
       "      <td>0</td>\n",
       "      <td>15 15 15 15 17 18 19 19 20 20 19 18 20 23 22 1...</td>\n",
       "    </tr>\n",
       "    <tr>\n",
       "      <th>2</th>\n",
       "      <td>52</td>\n",
       "      <td>0</td>\n",
       "      <td>0</td>\n",
       "      <td>47 64 80 96 111 106 101 98 99 99 95 95 97 99 1...</td>\n",
       "    </tr>\n",
       "    <tr>\n",
       "      <th>3</th>\n",
       "      <td>10</td>\n",
       "      <td>4</td>\n",
       "      <td>0</td>\n",
       "      <td>197 197 115 45 37 41 54 99 160 166 176 179 182...</td>\n",
       "    </tr>\n",
       "    <tr>\n",
       "      <th>4</th>\n",
       "      <td>26</td>\n",
       "      <td>2</td>\n",
       "      <td>0</td>\n",
       "      <td>202 139 60 48 27 4 18 94 183 203 207 209 210 2...</td>\n",
       "    </tr>\n",
       "    <tr>\n",
       "      <th>...</th>\n",
       "      <td>...</td>\n",
       "      <td>...</td>\n",
       "      <td>...</td>\n",
       "      <td>...</td>\n",
       "    </tr>\n",
       "    <tr>\n",
       "      <th>23700</th>\n",
       "      <td>33</td>\n",
       "      <td>1</td>\n",
       "      <td>1</td>\n",
       "      <td>71 71 72 72 72 72 71 71 71 71 71 70 68 67 66 6...</td>\n",
       "    </tr>\n",
       "    <tr>\n",
       "      <th>23701</th>\n",
       "      <td>60</td>\n",
       "      <td>3</td>\n",
       "      <td>0</td>\n",
       "      <td>43 43 42 42 73 112 137 130 136 140 135 141 147...</td>\n",
       "    </tr>\n",
       "    <tr>\n",
       "      <th>23702</th>\n",
       "      <td>37</td>\n",
       "      <td>2</td>\n",
       "      <td>0</td>\n",
       "      <td>45 47 36 52 54 44 41 35 36 39 72 74 89 118 130...</td>\n",
       "    </tr>\n",
       "    <tr>\n",
       "      <th>23703</th>\n",
       "      <td>59</td>\n",
       "      <td>0</td>\n",
       "      <td>0</td>\n",
       "      <td>109 109 106 102 99 96 98 107 114 121 128 133 1...</td>\n",
       "    </tr>\n",
       "    <tr>\n",
       "      <th>23704</th>\n",
       "      <td>20</td>\n",
       "      <td>0</td>\n",
       "      <td>1</td>\n",
       "      <td>15 9 4 1 5 11 19 38 69 83 99 127 135 142 149 1...</td>\n",
       "    </tr>\n",
       "  </tbody>\n",
       "</table>\n",
       "<p>23705 rows × 4 columns</p>\n",
       "</div>"
      ]
     },
     "execution_count": 51,
     "metadata": {},
     "output_type": "execute_result"
    }
   ],
   "execution_count": 51
  }
 ],
 "metadata": {
  "kernelspec": {
   "display_name": "Python 3",
   "language": "python",
   "name": "python3"
  },
  "language_info": {
   "codemirror_mode": {
    "name": "ipython",
    "version": 2
   },
   "file_extension": ".py",
   "mimetype": "text/x-python",
   "name": "python",
   "nbconvert_exporter": "python",
   "pygments_lexer": "ipython2",
   "version": "2.7.6"
  }
 },
 "nbformat": 4,
 "nbformat_minor": 5
}
